{
 "cells": [
  {
   "cell_type": "markdown",
   "metadata": {},
   "source": [
    "# Grupo 21: Thiago e Gabriele"
   ]
  },
  {
   "cell_type": "code",
   "execution_count": 4,
   "metadata": {},
   "outputs": [],
   "source": [
    "import pandas as pd\n",
    "import numpy as np\n",
    "import seaborn as sns\n",
    "import matplotlib.pyplot as plt\n",
    "import matplotlib.lines as mlines\n",
    "from sklearn import preprocessing\n",
    "from sklearn import cluster"
   ]
  },
  {
   "cell_type": "code",
   "execution_count": 5,
   "metadata": {},
   "outputs": [],
   "source": [
    "df = pd.read_csv('trabalho5_dados_20.csv')"
   ]
  },
  {
   "cell_type": "code",
   "execution_count": 6,
   "metadata": {},
   "outputs": [
    {
     "data": {
      "text/html": [
       "<div>\n",
       "<style scoped>\n",
       "    .dataframe tbody tr th:only-of-type {\n",
       "        vertical-align: middle;\n",
       "    }\n",
       "\n",
       "    .dataframe tbody tr th {\n",
       "        vertical-align: top;\n",
       "    }\n",
       "\n",
       "    .dataframe thead th {\n",
       "        text-align: right;\n",
       "    }\n",
       "</style>\n",
       "<table border=\"1\" class=\"dataframe\">\n",
       "  <thead>\n",
       "    <tr style=\"text-align: right;\">\n",
       "      <th></th>\n",
       "      <th>area</th>\n",
       "      <th>perimetro</th>\n",
       "      <th>maior-eixo</th>\n",
       "      <th>menor-eixo</th>\n",
       "      <th>arredondamento</th>\n",
       "      <th>area-convexa</th>\n",
       "      <th>extensao</th>\n",
       "    </tr>\n",
       "  </thead>\n",
       "  <tbody>\n",
       "    <tr>\n",
       "      <th>0</th>\n",
       "      <td>9669</td>\n",
       "      <td>388.606995</td>\n",
       "      <td>151.438461</td>\n",
       "      <td>83.590904</td>\n",
       "      <td>0.833858</td>\n",
       "      <td>10012</td>\n",
       "      <td>0.733890</td>\n",
       "    </tr>\n",
       "    <tr>\n",
       "      <th>1</th>\n",
       "      <td>12975</td>\n",
       "      <td>463.851013</td>\n",
       "      <td>196.423965</td>\n",
       "      <td>85.064117</td>\n",
       "      <td>0.901363</td>\n",
       "      <td>13358</td>\n",
       "      <td>0.609126</td>\n",
       "    </tr>\n",
       "    <tr>\n",
       "      <th>2</th>\n",
       "      <td>15161</td>\n",
       "      <td>498.790985</td>\n",
       "      <td>208.252045</td>\n",
       "      <td>93.860260</td>\n",
       "      <td>0.892673</td>\n",
       "      <td>15541</td>\n",
       "      <td>0.640570</td>\n",
       "    </tr>\n",
       "    <tr>\n",
       "      <th>3</th>\n",
       "      <td>11793</td>\n",
       "      <td>417.160004</td>\n",
       "      <td>163.043839</td>\n",
       "      <td>93.501099</td>\n",
       "      <td>0.819225</td>\n",
       "      <td>12022</td>\n",
       "      <td>0.661710</td>\n",
       "    </tr>\n",
       "    <tr>\n",
       "      <th>4</th>\n",
       "      <td>14960</td>\n",
       "      <td>482.140015</td>\n",
       "      <td>199.543976</td>\n",
       "      <td>96.218201</td>\n",
       "      <td>0.876066</td>\n",
       "      <td>15149</td>\n",
       "      <td>0.611861</td>\n",
       "    </tr>\n",
       "    <tr>\n",
       "      <th>...</th>\n",
       "      <td>...</td>\n",
       "      <td>...</td>\n",
       "      <td>...</td>\n",
       "      <td>...</td>\n",
       "      <td>...</td>\n",
       "      <td>...</td>\n",
       "      <td>...</td>\n",
       "    </tr>\n",
       "    <tr>\n",
       "      <th>1138</th>\n",
       "      <td>13315</td>\n",
       "      <td>476.203003</td>\n",
       "      <td>205.188614</td>\n",
       "      <td>83.061020</td>\n",
       "      <td>0.914404</td>\n",
       "      <td>13510</td>\n",
       "      <td>0.551574</td>\n",
       "    </tr>\n",
       "    <tr>\n",
       "      <th>1139</th>\n",
       "      <td>13002</td>\n",
       "      <td>472.473999</td>\n",
       "      <td>198.077271</td>\n",
       "      <td>85.799171</td>\n",
       "      <td>0.901317</td>\n",
       "      <td>13432</td>\n",
       "      <td>0.694737</td>\n",
       "    </tr>\n",
       "    <tr>\n",
       "      <th>1140</th>\n",
       "      <td>10412</td>\n",
       "      <td>408.720001</td>\n",
       "      <td>163.752914</td>\n",
       "      <td>82.414291</td>\n",
       "      <td>0.864121</td>\n",
       "      <td>10735</td>\n",
       "      <td>0.689308</td>\n",
       "    </tr>\n",
       "    <tr>\n",
       "      <th>1141</th>\n",
       "      <td>12331</td>\n",
       "      <td>441.440002</td>\n",
       "      <td>175.609924</td>\n",
       "      <td>90.825432</td>\n",
       "      <td>0.855865</td>\n",
       "      <td>12617</td>\n",
       "      <td>0.619399</td>\n",
       "    </tr>\n",
       "    <tr>\n",
       "      <th>1142</th>\n",
       "      <td>10767</td>\n",
       "      <td>428.351990</td>\n",
       "      <td>181.782303</td>\n",
       "      <td>75.896065</td>\n",
       "      <td>0.908672</td>\n",
       "      <td>11002</td>\n",
       "      <td>0.699156</td>\n",
       "    </tr>\n",
       "  </tbody>\n",
       "</table>\n",
       "<p>1143 rows × 7 columns</p>\n",
       "</div>"
      ],
      "text/plain": [
       "       area   perimetro  maior-eixo  menor-eixo  arredondamento  area-convexa  \\\n",
       "0      9669  388.606995  151.438461   83.590904        0.833858         10012   \n",
       "1     12975  463.851013  196.423965   85.064117        0.901363         13358   \n",
       "2     15161  498.790985  208.252045   93.860260        0.892673         15541   \n",
       "3     11793  417.160004  163.043839   93.501099        0.819225         12022   \n",
       "4     14960  482.140015  199.543976   96.218201        0.876066         15149   \n",
       "...     ...         ...         ...         ...             ...           ...   \n",
       "1138  13315  476.203003  205.188614   83.061020        0.914404         13510   \n",
       "1139  13002  472.473999  198.077271   85.799171        0.901317         13432   \n",
       "1140  10412  408.720001  163.752914   82.414291        0.864121         10735   \n",
       "1141  12331  441.440002  175.609924   90.825432        0.855865         12617   \n",
       "1142  10767  428.351990  181.782303   75.896065        0.908672         11002   \n",
       "\n",
       "      extensao  \n",
       "0     0.733890  \n",
       "1     0.609126  \n",
       "2     0.640570  \n",
       "3     0.661710  \n",
       "4     0.611861  \n",
       "...        ...  \n",
       "1138  0.551574  \n",
       "1139  0.694737  \n",
       "1140  0.689308  \n",
       "1141  0.619399  \n",
       "1142  0.699156  \n",
       "\n",
       "[1143 rows x 7 columns]"
      ]
     },
     "execution_count": 6,
     "metadata": {},
     "output_type": "execute_result"
    }
   ],
   "source": [
    "df"
   ]
  },
  {
   "cell_type": "code",
   "execution_count": 7,
   "metadata": {},
   "outputs": [
    {
     "data": {
      "text/html": [
       "<div>\n",
       "<style scoped>\n",
       "    .dataframe tbody tr th:only-of-type {\n",
       "        vertical-align: middle;\n",
       "    }\n",
       "\n",
       "    .dataframe tbody tr th {\n",
       "        vertical-align: top;\n",
       "    }\n",
       "\n",
       "    .dataframe thead th {\n",
       "        text-align: right;\n",
       "    }\n",
       "</style>\n",
       "<table border=\"1\" class=\"dataframe\">\n",
       "  <thead>\n",
       "    <tr style=\"text-align: right;\">\n",
       "      <th></th>\n",
       "      <th>area</th>\n",
       "      <th>perimetro</th>\n",
       "      <th>maior-eixo</th>\n",
       "      <th>menor-eixo</th>\n",
       "      <th>arredondamento</th>\n",
       "      <th>area-convexa</th>\n",
       "      <th>extensao</th>\n",
       "    </tr>\n",
       "  </thead>\n",
       "  <tbody>\n",
       "    <tr>\n",
       "      <th>count</th>\n",
       "      <td>1143.000000</td>\n",
       "      <td>1143.000000</td>\n",
       "      <td>1143.000000</td>\n",
       "      <td>1143.000000</td>\n",
       "      <td>1143.000000</td>\n",
       "      <td>1143.000000</td>\n",
       "      <td>1143.000000</td>\n",
       "    </tr>\n",
       "    <tr>\n",
       "      <th>mean</th>\n",
       "      <td>12658.894138</td>\n",
       "      <td>454.498840</td>\n",
       "      <td>189.051254</td>\n",
       "      <td>86.121164</td>\n",
       "      <td>0.887839</td>\n",
       "      <td>12945.679790</td>\n",
       "      <td>0.658682</td>\n",
       "    </tr>\n",
       "    <tr>\n",
       "      <th>std</th>\n",
       "      <td>1744.694334</td>\n",
       "      <td>35.739101</td>\n",
       "      <td>17.554676</td>\n",
       "      <td>5.631057</td>\n",
       "      <td>0.020007</td>\n",
       "      <td>1786.314499</td>\n",
       "      <td>0.077419</td>\n",
       "    </tr>\n",
       "    <tr>\n",
       "      <th>min</th>\n",
       "      <td>8501.000000</td>\n",
       "      <td>371.024994</td>\n",
       "      <td>151.438461</td>\n",
       "      <td>67.695343</td>\n",
       "      <td>0.816083</td>\n",
       "      <td>8738.000000</td>\n",
       "      <td>0.497413</td>\n",
       "    </tr>\n",
       "    <tr>\n",
       "      <th>25%</th>\n",
       "      <td>11353.000000</td>\n",
       "      <td>425.818008</td>\n",
       "      <td>174.266548</td>\n",
       "      <td>82.645897</td>\n",
       "      <td>0.874126</td>\n",
       "      <td>11615.500000</td>\n",
       "      <td>0.597611</td>\n",
       "    </tr>\n",
       "    <tr>\n",
       "      <th>50%</th>\n",
       "      <td>12405.000000</td>\n",
       "      <td>448.839996</td>\n",
       "      <td>186.107849</td>\n",
       "      <td>86.146309</td>\n",
       "      <td>0.890264</td>\n",
       "      <td>12659.000000</td>\n",
       "      <td>0.638173</td>\n",
       "    </tr>\n",
       "    <tr>\n",
       "      <th>75%</th>\n",
       "      <td>13959.000000</td>\n",
       "      <td>483.822495</td>\n",
       "      <td>203.602448</td>\n",
       "      <td>90.012150</td>\n",
       "      <td>0.903069</td>\n",
       "      <td>14283.000000</td>\n",
       "      <td>0.721851</td>\n",
       "    </tr>\n",
       "    <tr>\n",
       "      <th>max</th>\n",
       "      <td>17856.000000</td>\n",
       "      <td>548.445984</td>\n",
       "      <td>239.010498</td>\n",
       "      <td>102.901276</td>\n",
       "      <td>0.948007</td>\n",
       "      <td>18062.000000</td>\n",
       "      <td>0.861050</td>\n",
       "    </tr>\n",
       "  </tbody>\n",
       "</table>\n",
       "</div>"
      ],
      "text/plain": [
       "               area    perimetro   maior-eixo   menor-eixo  arredondamento  \\\n",
       "count   1143.000000  1143.000000  1143.000000  1143.000000     1143.000000   \n",
       "mean   12658.894138   454.498840   189.051254    86.121164        0.887839   \n",
       "std     1744.694334    35.739101    17.554676     5.631057        0.020007   \n",
       "min     8501.000000   371.024994   151.438461    67.695343        0.816083   \n",
       "25%    11353.000000   425.818008   174.266548    82.645897        0.874126   \n",
       "50%    12405.000000   448.839996   186.107849    86.146309        0.890264   \n",
       "75%    13959.000000   483.822495   203.602448    90.012150        0.903069   \n",
       "max    17856.000000   548.445984   239.010498   102.901276        0.948007   \n",
       "\n",
       "       area-convexa     extensao  \n",
       "count   1143.000000  1143.000000  \n",
       "mean   12945.679790     0.658682  \n",
       "std     1786.314499     0.077419  \n",
       "min     8738.000000     0.497413  \n",
       "25%    11615.500000     0.597611  \n",
       "50%    12659.000000     0.638173  \n",
       "75%    14283.000000     0.721851  \n",
       "max    18062.000000     0.861050  "
      ]
     },
     "execution_count": 7,
     "metadata": {},
     "output_type": "execute_result"
    }
   ],
   "source": [
    "df.describe()"
   ]
  },
  {
   "cell_type": "code",
   "execution_count": 8,
   "metadata": {},
   "outputs": [
    {
     "name": "stdout",
     "output_type": "stream",
     "text": [
      "<class 'pandas.core.frame.DataFrame'>\n",
      "RangeIndex: 1143 entries, 0 to 1142\n",
      "Data columns (total 7 columns):\n",
      " #   Column          Non-Null Count  Dtype  \n",
      "---  ------          --------------  -----  \n",
      " 0   area            1143 non-null   int64  \n",
      " 1   perimetro       1143 non-null   float64\n",
      " 2   maior-eixo      1143 non-null   float64\n",
      " 3   menor-eixo      1143 non-null   float64\n",
      " 4   arredondamento  1143 non-null   float64\n",
      " 5   area-convexa    1143 non-null   int64  \n",
      " 6   extensao        1143 non-null   float64\n",
      "dtypes: float64(5), int64(2)\n",
      "memory usage: 62.6 KB\n"
     ]
    }
   ],
   "source": [
    "df.info()"
   ]
  },
  {
   "cell_type": "code",
   "execution_count": 9,
   "metadata": {},
   "outputs": [
    {
     "data": {
      "text/plain": [
       "<seaborn.axisgrid.FacetGrid at 0x7f076db90e80>"
      ]
     },
     "execution_count": 9,
     "metadata": {},
     "output_type": "execute_result"
    },
    {
     "data": {
      "image/png": "[encoded data removed]",
      "text/plain": [
       "<Figure size 360x360 with 1 Axes>"
      ]
     },
     "metadata": {
      "needs_background": "light"
     },
     "output_type": "display_data"
    }
   ],
   "source": [
    "sns.displot(df['area'])"
   ]
  },
  {
   "cell_type": "code",
   "execution_count": 10,
   "metadata": {},
   "outputs": [
    {
     "data": {
      "text/plain": [
       "<seaborn.axisgrid.FacetGrid at 0x7f076db90d00>"
      ]
     },
     "execution_count": 10,
     "metadata": {},
     "output_type": "execute_result"
    },
    {
     "data": {
      "image/png": "[encoded data removed]",
      "text/plain": [
       "<Figure size 360x360 with 1 Axes>"
      ]
     },
     "metadata": {
      "needs_background": "light"
     },
     "output_type": "display_data"
    }
   ],
   "source": [
    "sns.displot(df['perimetro'])"
   ]
  },
  {
   "cell_type": "code",
   "execution_count": 11,
   "metadata": {},
   "outputs": [
    {
     "data": {
      "text/html": [
       "<div>\n",
       "<style scoped>\n",
       "    .dataframe tbody tr th:only-of-type {\n",
       "        vertical-align: middle;\n",
       "    }\n",
       "\n",
       "    .dataframe tbody tr th {\n",
       "        vertical-align: top;\n",
       "    }\n",
       "\n",
       "    .dataframe thead th {\n",
       "        text-align: right;\n",
       "    }\n",
       "</style>\n",
       "<table border=\"1\" class=\"dataframe\">\n",
       "  <thead>\n",
       "    <tr style=\"text-align: right;\">\n",
       "      <th></th>\n",
       "      <th>area</th>\n",
       "      <th>perimetro</th>\n",
       "      <th>maior-eixo</th>\n",
       "      <th>menor-eixo</th>\n",
       "      <th>arredondamento</th>\n",
       "      <th>area-convexa</th>\n",
       "      <th>extensao</th>\n",
       "    </tr>\n",
       "  </thead>\n",
       "  <tbody>\n",
       "    <tr>\n",
       "      <th>area</th>\n",
       "      <td>1.000000</td>\n",
       "      <td>0.967621</td>\n",
       "      <td>0.910016</td>\n",
       "      <td>0.797172</td>\n",
       "      <td>0.374845</td>\n",
       "      <td>0.998988</td>\n",
       "      <td>-0.029267</td>\n",
       "    </tr>\n",
       "    <tr>\n",
       "      <th>perimetro</th>\n",
       "      <td>0.967621</td>\n",
       "      <td>1.000000</td>\n",
       "      <td>0.974633</td>\n",
       "      <td>0.644938</td>\n",
       "      <td>0.561282</td>\n",
       "      <td>0.971151</td>\n",
       "      <td>-0.103465</td>\n",
       "    </tr>\n",
       "    <tr>\n",
       "      <th>maior-eixo</th>\n",
       "      <td>0.910016</td>\n",
       "      <td>0.974633</td>\n",
       "      <td>1.000000</td>\n",
       "      <td>0.480290</td>\n",
       "      <td>0.716767</td>\n",
       "      <td>0.910753</td>\n",
       "      <td>-0.118685</td>\n",
       "    </tr>\n",
       "    <tr>\n",
       "      <th>menor-eixo</th>\n",
       "      <td>0.797172</td>\n",
       "      <td>0.644938</td>\n",
       "      <td>0.480290</td>\n",
       "      <td>1.000000</td>\n",
       "      <td>-0.253445</td>\n",
       "      <td>0.796271</td>\n",
       "      <td>0.098955</td>\n",
       "    </tr>\n",
       "    <tr>\n",
       "      <th>arredondamento</th>\n",
       "      <td>0.374845</td>\n",
       "      <td>0.561282</td>\n",
       "      <td>0.716767</td>\n",
       "      <td>-0.253445</td>\n",
       "      <td>1.000000</td>\n",
       "      <td>0.376175</td>\n",
       "      <td>-0.206128</td>\n",
       "    </tr>\n",
       "    <tr>\n",
       "      <th>area-convexa</th>\n",
       "      <td>0.998988</td>\n",
       "      <td>0.971151</td>\n",
       "      <td>0.910753</td>\n",
       "      <td>0.796271</td>\n",
       "      <td>0.376175</td>\n",
       "      <td>1.000000</td>\n",
       "      <td>-0.033563</td>\n",
       "    </tr>\n",
       "    <tr>\n",
       "      <th>extensao</th>\n",
       "      <td>-0.029267</td>\n",
       "      <td>-0.103465</td>\n",
       "      <td>-0.118685</td>\n",
       "      <td>0.098955</td>\n",
       "      <td>-0.206128</td>\n",
       "      <td>-0.033563</td>\n",
       "      <td>1.000000</td>\n",
       "    </tr>\n",
       "  </tbody>\n",
       "</table>\n",
       "</div>"
      ],
      "text/plain": [
       "                    area  perimetro  maior-eixo  menor-eixo  arredondamento  \\\n",
       "area            1.000000   0.967621    0.910016    0.797172        0.374845   \n",
       "perimetro       0.967621   1.000000    0.974633    0.644938        0.561282   \n",
       "maior-eixo      0.910016   0.974633    1.000000    0.480290        0.716767   \n",
       "menor-eixo      0.797172   0.644938    0.480290    1.000000       -0.253445   \n",
       "arredondamento  0.374845   0.561282    0.716767   -0.253445        1.000000   \n",
       "area-convexa    0.998988   0.971151    0.910753    0.796271        0.376175   \n",
       "extensao       -0.029267  -0.103465   -0.118685    0.098955       -0.206128   \n",
       "\n",
       "                area-convexa  extensao  \n",
       "area                0.998988 -0.029267  \n",
       "perimetro           0.971151 -0.103465  \n",
       "maior-eixo          0.910753 -0.118685  \n",
       "menor-eixo          0.796271  0.098955  \n",
       "arredondamento      0.376175 -0.206128  \n",
       "area-convexa        1.000000 -0.033563  \n",
       "extensao           -0.033563  1.000000  "
      ]
     },
     "execution_count": 11,
     "metadata": {},
     "output_type": "execute_result"
    }
   ],
   "source": [
    "df.corr()"
   ]
  },
  {
   "cell_type": "code",
   "execution_count": 12,
   "metadata": {},
   "outputs": [
    {
     "data": {
      "image/png": "[encoded data removed]",
      "text/plain": [
       "<Figure size 432x288 with 1 Axes>"
      ]
     },
     "metadata": {
      "needs_background": "light"
     },
     "output_type": "display_data"
    }
   ],
   "source": [
    "y= 0\n",
    "x=6\n",
    "plt.scatter( df.iloc[:,x], df.iloc[:, y], marker=\"o\", s=25, edgecolor=\"k\" )\n",
    "plt.xlabel(df.keys()[x])\n",
    "plt.ylabel(df.keys()[y])\n",
    "# plt.legend()\n",
    "plt.show()"
   ]
  },
  {
   "cell_type": "code",
   "execution_count": 13,
   "metadata": {},
   "outputs": [
    {
     "data": {
      "text/plain": [
       "(1143, 7)"
      ]
     },
     "execution_count": 13,
     "metadata": {},
     "output_type": "execute_result"
    }
   ],
   "source": [
    "df.shape"
   ]
  },
  {
   "cell_type": "markdown",
   "metadata": {},
   "source": [
    "## Aplicando o PCA\n"
   ]
  },
  {
   "cell_type": "markdown",
   "metadata": {},
   "source": [
    "Let's see how much we can reduce the dimensions while still keeping 95% variance. We will apply Principle Component Analysis (PCA) to our vectorized data. The reason for this is that by keeping a large number of dimensions with PCA, you don’t destroy much of the information, but hopefully will remove some noise/outliers from the data, and make the clustering problem easier for k-means. "
   ]
  },
  {
   "cell_type": "code",
   "execution_count": 14,
   "metadata": {},
   "outputs": [
    {
     "data": {
      "text/plain": [
       "(1143, 1)"
      ]
     },
     "execution_count": 14,
     "metadata": {},
     "output_type": "execute_result"
    }
   ],
   "source": [
    "from sklearn.decomposition import PCA\n",
    "\n",
    "pca = PCA(n_components=0.95, random_state=42)\n",
    "# pca = PCA(n_components=None, random_state=42)\n",
    "X_reduced= pca.fit_transform(df)\n",
    "X_reduced.shape"
   ]
  },
  {
   "cell_type": "code",
   "execution_count": 15,
   "metadata": {},
   "outputs": [
    {
     "data": {
      "text/plain": [
       "array([[-4188.50268563],\n",
       "       [  515.95587969],\n",
       "       [ 3605.27594621],\n",
       "       ...,\n",
       "       [-3151.89000309],\n",
       "       [ -464.44600099],\n",
       "       [-2712.51013942]])"
      ]
     },
     "execution_count": 15,
     "metadata": {},
     "output_type": "execute_result"
    }
   ],
   "source": [
    "X_reduced"
   ]
  },
  {
   "cell_type": "code",
   "execution_count": 16,
   "metadata": {},
   "outputs": [
    {
     "data": {
      "text/plain": [
       "array([[9.66900000e+03, 3.88606995e+02, 1.51438461e+02, ...,\n",
       "        8.33857775e-01, 1.00120000e+04, 7.33889937e-01],\n",
       "       [1.29750000e+04, 4.63851013e+02, 1.96423965e+02, ...,\n",
       "        9.01363254e-01, 1.33580000e+04, 6.09126329e-01],\n",
       "       [1.51610000e+04, 4.98790985e+02, 2.08252045e+02, ...,\n",
       "        8.92672896e-01, 1.55410000e+04, 6.40569568e-01],\n",
       "       ...,\n",
       "       [1.04120000e+04, 4.08720001e+02, 1.63752914e+02, ...,\n",
       "        8.64120841e-01, 1.07350000e+04, 6.89308167e-01],\n",
       "       [1.23310000e+04, 4.41440002e+02, 1.75609924e+02, ...,\n",
       "        8.55864644e-01, 1.26170000e+04, 6.19399250e-01],\n",
       "       [1.07670000e+04, 4.28351990e+02, 1.81782303e+02, ...,\n",
       "        9.08671975e-01, 1.10020000e+04, 6.99155867e-01]])"
      ]
     },
     "execution_count": 16,
     "metadata": {},
     "output_type": "execute_result"
    }
   ],
   "source": [
    "np.array(df)"
   ]
  },
  {
   "cell_type": "markdown",
   "metadata": {},
   "source": [
    "## K-means"
   ]
  },
  {
   "cell_type": "code",
   "execution_count": 17,
   "metadata": {},
   "outputs": [
    {
     "data": {
      "image/png": "[encoded data removed]",
      "text/plain": [
       "<Figure size 720x288 with 1 Axes>"
      ]
     },
     "metadata": {
      "needs_background": "light"
     },
     "output_type": "display_data"
    }
   ],
   "source": [
    "from sklearn import cluster\n",
    "\n",
    "kmeans = cluster.MiniBatchKMeans( n_clusters=4, batch_size=10)\n",
    "y_kmeans = kmeans.fit_predict(X_reduced)\n",
    "\n",
    "plt.figure(figsize=(10,4))\n",
    "plt.scatter(X_reduced, y_kmeans,marker=\"o\", c=y_kmeans, s=25, edgecolor=\"k\" )\n",
    "plt.show()"
   ]
  },
  {
   "cell_type": "code",
   "execution_count": 18,
   "metadata": {},
   "outputs": [
    {
     "data": {
      "text/plain": [
       "{0, 1, 2, 3}"
      ]
     },
     "execution_count": 18,
     "metadata": {},
     "output_type": "execute_result"
    }
   ],
   "source": [
    "set(kmeans.labels_)"
   ]
  },
  {
   "cell_type": "markdown",
   "metadata": {},
   "source": [
    "## Optics"
   ]
  },
  {
   "cell_type": "code",
   "execution_count": 19,
   "metadata": {},
   "outputs": [
    {
     "name": "stderr",
     "output_type": "stream",
     "text": [
      "/home/gabic2814/anaconda3/lib/python3.8/site-packages/sklearn/cluster/_optics.py:501: UserWarning: All reachability values are inf. Set a larger max_eps or all data will be considered outliers.\n",
      "  warnings.warn(\"All reachability values are inf. Set a larger\"\n"
     ]
    },
    {
     "data": {
      "image/png": "[encoded data removed]",
      "text/plain": [
       "<Figure size 432x288 with 1 Axes>"
      ]
     },
     "metadata": {
      "needs_background": "light"
     },
     "output_type": "display_data"
    },
    {
     "name": "stdout",
     "output_type": "stream",
     "text": [
      "{-1}\n"
     ]
    },
    {
     "data": {
      "image/png": "[encoded data removed]",
      "text/plain": [
       "<Figure size 432x288 with 1 Axes>"
      ]
     },
     "metadata": {
      "needs_background": "light"
     },
     "output_type": "display_data"
    }
   ],
   "source": [
    "modelo = cluster.OPTICS( min_samples=10, max_eps=0.2, xi=0.2 )\n",
    "y_predito = modelo.fit_predict(X_reduced)\n",
    "\n",
    "space = np.arange(len(X_reduced))\n",
    "reachability = modelo.reachability_[ modelo.ordering_ ]\n",
    "labels = modelo.labels_[ modelo.ordering_ ]\n",
    "\n",
    "colors = [ \"b.\", \"y.\", \"r.\", \"g.\", \"c.\" ]\n",
    "for klass, color in zip( range(0, 5), colors ):\n",
    "  Xk = space[ labels == klass ]\n",
    "  Rk = reachability[ labels==klass ]\n",
    "  plt.plot(Xk, Rk, color, alpha=0.3)\n",
    "\n",
    "plt.plot( space[ labels == -1 ], reachability[ labels==-1 ], \"k.\", alpha=0.3 )\n",
    "\n",
    "plt.show()\n",
    "\n",
    "print(set(labels))\n",
    "\n",
    "plt.scatter( X_reduced, y_predito, marker=\"o\", c=y_predito, s=25, edgecolor=\"k\" )\n",
    "plt.show()"
   ]
  },
  {
   "cell_type": "code",
   "execution_count": null,
   "metadata": {},
   "outputs": [],
   "source": []
  },
  {
   "cell_type": "code",
   "execution_count": null,
   "metadata": {},
   "outputs": [],
   "source": []
  },
  {
   "cell_type": "code",
   "execution_count": null,
   "metadata": {},
   "outputs": [],
   "source": []
  }
 ],
 "metadata": {
  "kernelspec": {
   "display_name": "Python 3",
   "language": "python",
   "name": "python3"
  },
  "language_info": {
   "codemirror_mode": {
    "name": "ipython",
    "version": 3
   },
   "file_extension": ".py",
   "mimetype": "text/x-python",
   "name": "python",
   "nbconvert_exporter": "python",
   "pygments_lexer": "ipython3",
   "version": "3.8.5"
  }
 },
 "nbformat": 4,
 "nbformat_minor": 4
}
