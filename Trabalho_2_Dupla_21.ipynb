{
 "cells": [
  {
   "cell_type": "markdown",
   "metadata": {},
   "source": [
    "### Grupo 21: Thiago e Gabriele"
   ]
  },
  {
   "cell_type": "code",
   "execution_count": 23,
   "metadata": {
    "id": "PgxazV36C4H4"
   },
   "outputs": [],
   "source": [
    "import pandas as pd\n",
    "import numpy as np\n",
    "import seaborn as sns\n",
    "import matplotlib.pyplot as plt\n",
    "import matplotlib.lines as mlines"
   ]
  },
  {
   "cell_type": "markdown",
   "metadata": {},
   "source": [
    "O dataset abaixo possui 1632 linhas, contendo 1438 títulos de jogos de 9 plataformas diferentes. São 11 variáveis, sendo elas: nome', 'plataforma', 'genero', 'editora', 'vendas', 'lancamento','avaliacao-criticos', 'numero-criticos', 'avaliacao-usuarios',     'numero-usuarios', 'fabricante'."
   ]
  },
  {
   "cell_type": "code",
   "execution_count": 24,
   "metadata": {
    "colab": {
     "base_uri": "https://localhost:8080/"
    },
    "id": "oogw0ix6DPg1",
    "outputId": "09d38379-72ca-4513-c90f-abfc4c06c3f9"
   },
   "outputs": [
    {
     "data": {
      "text/html": [
       "<div>\n",
       "<style scoped>\n",
       "    .dataframe tbody tr th:only-of-type {\n",
       "        vertical-align: middle;\n",
       "    }\n",
       "\n",
       "    .dataframe tbody tr th {\n",
       "        vertical-align: top;\n",
       "    }\n",
       "\n",
       "    .dataframe thead th {\n",
       "        text-align: right;\n",
       "    }\n",
       "</style>\n",
       "<table border=\"1\" class=\"dataframe\">\n",
       "  <thead>\n",
       "    <tr style=\"text-align: right;\">\n",
       "      <th></th>\n",
       "      <th>nome</th>\n",
       "      <th>plataforma</th>\n",
       "      <th>genero</th>\n",
       "      <th>editora</th>\n",
       "      <th>vendas</th>\n",
       "      <th>lancamento</th>\n",
       "      <th>avaliacao-criticos</th>\n",
       "      <th>numero-criticos</th>\n",
       "      <th>avaliacao-usuarios</th>\n",
       "      <th>numero-usuarios</th>\n",
       "      <th>fabricante</th>\n",
       "    </tr>\n",
       "  </thead>\n",
       "  <tbody>\n",
       "    <tr>\n",
       "      <th>0</th>\n",
       "      <td>Green Lantern: Rise of the Manhunters</td>\n",
       "      <td>X360</td>\n",
       "      <td>Action</td>\n",
       "      <td>Warner Bros. Interactive Entertainment</td>\n",
       "      <td>0.10</td>\n",
       "      <td>7-Jun-11</td>\n",
       "      <td>59.0</td>\n",
       "      <td>17.0</td>\n",
       "      <td>7</td>\n",
       "      <td>22.0</td>\n",
       "      <td>Double Helix Games</td>\n",
       "    </tr>\n",
       "    <tr>\n",
       "      <th>1</th>\n",
       "      <td>Kinect Sports: Season Two</td>\n",
       "      <td>X360</td>\n",
       "      <td>Sports</td>\n",
       "      <td>Microsoft Game Studios</td>\n",
       "      <td>2.18</td>\n",
       "      <td>25-Oct-11</td>\n",
       "      <td>66.0</td>\n",
       "      <td>46.0</td>\n",
       "      <td>6.3</td>\n",
       "      <td>27.0</td>\n",
       "      <td>BigPark, Rare Ltd.</td>\n",
       "    </tr>\n",
       "    <tr>\n",
       "      <th>2</th>\n",
       "      <td>Brothers in Arms: Double Time</td>\n",
       "      <td>Wii</td>\n",
       "      <td>Shooter</td>\n",
       "      <td>Ubisoft</td>\n",
       "      <td>0.12</td>\n",
       "      <td>23-Sep-08</td>\n",
       "      <td>45.0</td>\n",
       "      <td>13.0</td>\n",
       "      <td>6.6</td>\n",
       "      <td>17.0</td>\n",
       "      <td>Gearbox Software</td>\n",
       "    </tr>\n",
       "    <tr>\n",
       "      <th>3</th>\n",
       "      <td>Steambot Chronicles: Battle Tournament</td>\n",
       "      <td>PSP</td>\n",
       "      <td>Fighting</td>\n",
       "      <td>Irem Software Engineering</td>\n",
       "      <td>0.06</td>\n",
       "      <td>30-Jun-09</td>\n",
       "      <td>54.0</td>\n",
       "      <td>14.0</td>\n",
       "      <td>6.1</td>\n",
       "      <td>7.0</td>\n",
       "      <td>Irem</td>\n",
       "    </tr>\n",
       "    <tr>\n",
       "      <th>4</th>\n",
       "      <td>Tiger Woods PGA Tour 07</td>\n",
       "      <td>Wii</td>\n",
       "      <td>Sports</td>\n",
       "      <td>Electronic Arts</td>\n",
       "      <td>0.46</td>\n",
       "      <td>13-Mar-07</td>\n",
       "      <td>71.0</td>\n",
       "      <td>41.0</td>\n",
       "      <td>6.9</td>\n",
       "      <td>44.0</td>\n",
       "      <td>EA Redwood Shores</td>\n",
       "    </tr>\n",
       "    <tr>\n",
       "      <th>...</th>\n",
       "      <td>...</td>\n",
       "      <td>...</td>\n",
       "      <td>...</td>\n",
       "      <td>...</td>\n",
       "      <td>...</td>\n",
       "      <td>...</td>\n",
       "      <td>...</td>\n",
       "      <td>...</td>\n",
       "      <td>...</td>\n",
       "      <td>...</td>\n",
       "      <td>...</td>\n",
       "    </tr>\n",
       "    <tr>\n",
       "      <th>1627</th>\n",
       "      <td>Lost Planet: Extreme Condition</td>\n",
       "      <td>X360</td>\n",
       "      <td>Shooter</td>\n",
       "      <td>Capcom</td>\n",
       "      <td>1.31</td>\n",
       "      <td>12-Jan-07</td>\n",
       "      <td>79.0</td>\n",
       "      <td>76.0</td>\n",
       "      <td>7.1</td>\n",
       "      <td>161.0</td>\n",
       "      <td>Capcom</td>\n",
       "    </tr>\n",
       "    <tr>\n",
       "      <th>1628</th>\n",
       "      <td>Biohazard: Revival Selection</td>\n",
       "      <td>X360</td>\n",
       "      <td>Action</td>\n",
       "      <td>Capcom</td>\n",
       "      <td>0.03</td>\n",
       "      <td>NaN</td>\n",
       "      <td>NaN</td>\n",
       "      <td>NaN</td>\n",
       "      <td>NaN</td>\n",
       "      <td>NaN</td>\n",
       "      <td>NaN</td>\n",
       "    </tr>\n",
       "    <tr>\n",
       "      <th>1629</th>\n",
       "      <td>Ratatouille</td>\n",
       "      <td>X360</td>\n",
       "      <td>Platform</td>\n",
       "      <td>THQ</td>\n",
       "      <td>0.24</td>\n",
       "      <td>26-Jun-07</td>\n",
       "      <td>56.0</td>\n",
       "      <td>14.0</td>\n",
       "      <td>tbd</td>\n",
       "      <td>NaN</td>\n",
       "      <td>Heavy Iron Studios</td>\n",
       "    </tr>\n",
       "    <tr>\n",
       "      <th>1630</th>\n",
       "      <td>Catherine</td>\n",
       "      <td>PS3</td>\n",
       "      <td>Adventure</td>\n",
       "      <td>Deep Silver</td>\n",
       "      <td>0.60</td>\n",
       "      <td>26-Jul-11</td>\n",
       "      <td>79.0</td>\n",
       "      <td>61.0</td>\n",
       "      <td>7.8</td>\n",
       "      <td>246.0</td>\n",
       "      <td>Atlus</td>\n",
       "    </tr>\n",
       "    <tr>\n",
       "      <th>1631</th>\n",
       "      <td>Nascar Unleashed</td>\n",
       "      <td>X360</td>\n",
       "      <td>Racing</td>\n",
       "      <td>Activision</td>\n",
       "      <td>0.10</td>\n",
       "      <td>1-Nov-11</td>\n",
       "      <td>NaN</td>\n",
       "      <td>NaN</td>\n",
       "      <td>tbd</td>\n",
       "      <td>NaN</td>\n",
       "      <td>NaN</td>\n",
       "    </tr>\n",
       "  </tbody>\n",
       "</table>\n",
       "<p>1632 rows × 11 columns</p>\n",
       "</div>"
      ],
      "text/plain": [
       "                                        nome plataforma     genero  \\\n",
       "0      Green Lantern: Rise of the Manhunters       X360     Action   \n",
       "1                  Kinect Sports: Season Two       X360     Sports   \n",
       "2              Brothers in Arms: Double Time        Wii    Shooter   \n",
       "3     Steambot Chronicles: Battle Tournament        PSP   Fighting   \n",
       "4                    Tiger Woods PGA Tour 07        Wii     Sports   \n",
       "...                                      ...        ...        ...   \n",
       "1627          Lost Planet: Extreme Condition       X360    Shooter   \n",
       "1628            Biohazard: Revival Selection       X360     Action   \n",
       "1629                             Ratatouille       X360   Platform   \n",
       "1630                               Catherine        PS3  Adventure   \n",
       "1631                        Nascar Unleashed       X360     Racing   \n",
       "\n",
       "                                     editora  vendas lancamento  \\\n",
       "0     Warner Bros. Interactive Entertainment    0.10   7-Jun-11   \n",
       "1                     Microsoft Game Studios    2.18  25-Oct-11   \n",
       "2                                    Ubisoft    0.12  23-Sep-08   \n",
       "3                  Irem Software Engineering    0.06  30-Jun-09   \n",
       "4                            Electronic Arts    0.46  13-Mar-07   \n",
       "...                                      ...     ...        ...   \n",
       "1627                                  Capcom    1.31  12-Jan-07   \n",
       "1628                                  Capcom    0.03        NaN   \n",
       "1629                                     THQ    0.24  26-Jun-07   \n",
       "1630                             Deep Silver    0.60  26-Jul-11   \n",
       "1631                              Activision    0.10   1-Nov-11   \n",
       "\n",
       "      avaliacao-criticos  numero-criticos avaliacao-usuarios  numero-usuarios  \\\n",
       "0                   59.0             17.0                  7             22.0   \n",
       "1                   66.0             46.0                6.3             27.0   \n",
       "2                   45.0             13.0                6.6             17.0   \n",
       "3                   54.0             14.0                6.1              7.0   \n",
       "4                   71.0             41.0                6.9             44.0   \n",
       "...                  ...              ...                ...              ...   \n",
       "1627                79.0             76.0                7.1            161.0   \n",
       "1628                 NaN              NaN                NaN              NaN   \n",
       "1629                56.0             14.0                tbd              NaN   \n",
       "1630                79.0             61.0                7.8            246.0   \n",
       "1631                 NaN              NaN                tbd              NaN   \n",
       "\n",
       "              fabricante  \n",
       "0     Double Helix Games  \n",
       "1     BigPark, Rare Ltd.  \n",
       "2       Gearbox Software  \n",
       "3                   Irem  \n",
       "4      EA Redwood Shores  \n",
       "...                  ...  \n",
       "1627              Capcom  \n",
       "1628                 NaN  \n",
       "1629  Heavy Iron Studios  \n",
       "1630               Atlus  \n",
       "1631                 NaN  \n",
       "\n",
       "[1632 rows x 11 columns]"
      ]
     },
     "execution_count": 24,
     "metadata": {},
     "output_type": "execute_result"
    }
   ],
   "source": [
    "pasta_drive = ''\n",
    "dados = pd.read_csv(pasta_drive + \"trabalho2_dados_21.csv\")\n",
    "\n",
    "dados"
   ]
  },
  {
   "cell_type": "code",
   "execution_count": 25,
   "metadata": {
    "colab": {
     "base_uri": "https://localhost:8080/",
     "height": 204
    },
    "id": "CI2jAznBE_IP",
    "outputId": "53f300d7-6087-4d5c-e145-570bde8eaf38"
   },
   "outputs": [
    {
     "data": {
      "text/html": [
       "<div>\n",
       "<style scoped>\n",
       "    .dataframe tbody tr th:only-of-type {\n",
       "        vertical-align: middle;\n",
       "    }\n",
       "\n",
       "    .dataframe tbody tr th {\n",
       "        vertical-align: top;\n",
       "    }\n",
       "\n",
       "    .dataframe thead th {\n",
       "        text-align: right;\n",
       "    }\n",
       "</style>\n",
       "<table border=\"1\" class=\"dataframe\">\n",
       "  <thead>\n",
       "    <tr style=\"text-align: right;\">\n",
       "      <th></th>\n",
       "      <th>nome</th>\n",
       "      <th>plataforma</th>\n",
       "      <th>genero</th>\n",
       "      <th>editora</th>\n",
       "      <th>vendas</th>\n",
       "      <th>lancamento</th>\n",
       "      <th>avaliacao-criticos</th>\n",
       "      <th>numero-criticos</th>\n",
       "      <th>avaliacao-usuarios</th>\n",
       "      <th>numero-usuarios</th>\n",
       "      <th>fabricante</th>\n",
       "    </tr>\n",
       "  </thead>\n",
       "  <tbody>\n",
       "    <tr>\n",
       "      <th>1555</th>\n",
       "      <td>0-ji no Kane to Cinderella: Halloween Wedding</td>\n",
       "      <td>PSP</td>\n",
       "      <td>Misc</td>\n",
       "      <td>Quinrose</td>\n",
       "      <td>0.01</td>\n",
       "      <td>NaN</td>\n",
       "      <td>NaN</td>\n",
       "      <td>NaN</td>\n",
       "      <td>NaN</td>\n",
       "      <td>NaN</td>\n",
       "      <td>NaN</td>\n",
       "    </tr>\n",
       "    <tr>\n",
       "      <th>738</th>\n",
       "      <td>007: Quantum of Solace</td>\n",
       "      <td>PS3</td>\n",
       "      <td>Action</td>\n",
       "      <td>Activision</td>\n",
       "      <td>1.09</td>\n",
       "      <td>NaN</td>\n",
       "      <td>NaN</td>\n",
       "      <td>NaN</td>\n",
       "      <td>NaN</td>\n",
       "      <td>NaN</td>\n",
       "      <td>NaN</td>\n",
       "    </tr>\n",
       "    <tr>\n",
       "      <th>1197</th>\n",
       "      <td>007: Quantum of Solace</td>\n",
       "      <td>Wii</td>\n",
       "      <td>Action</td>\n",
       "      <td>Activision</td>\n",
       "      <td>0.62</td>\n",
       "      <td>NaN</td>\n",
       "      <td>NaN</td>\n",
       "      <td>NaN</td>\n",
       "      <td>NaN</td>\n",
       "      <td>NaN</td>\n",
       "      <td>NaN</td>\n",
       "    </tr>\n",
       "    <tr>\n",
       "      <th>1307</th>\n",
       "      <td>1/2 Summer +</td>\n",
       "      <td>PSP</td>\n",
       "      <td>Adventure</td>\n",
       "      <td>Kaga Create</td>\n",
       "      <td>0.01</td>\n",
       "      <td>NaN</td>\n",
       "      <td>NaN</td>\n",
       "      <td>NaN</td>\n",
       "      <td>NaN</td>\n",
       "      <td>NaN</td>\n",
       "      <td>NaN</td>\n",
       "    </tr>\n",
       "    <tr>\n",
       "      <th>1456</th>\n",
       "      <td>10 Minute Solution</td>\n",
       "      <td>Wii</td>\n",
       "      <td>Sports</td>\n",
       "      <td>Activision</td>\n",
       "      <td>0.06</td>\n",
       "      <td>29-Jun-10</td>\n",
       "      <td>NaN</td>\n",
       "      <td>NaN</td>\n",
       "      <td>tbd</td>\n",
       "      <td>NaN</td>\n",
       "      <td>Anchor Bay Entertainment</td>\n",
       "    </tr>\n",
       "  </tbody>\n",
       "</table>\n",
       "</div>"
      ],
      "text/plain": [
       "                                               nome plataforma     genero  \\\n",
       "1555  0-ji no Kane to Cinderella: Halloween Wedding        PSP       Misc   \n",
       "738                          007: Quantum of Solace        PS3     Action   \n",
       "1197                         007: Quantum of Solace        Wii     Action   \n",
       "1307                                   1/2 Summer +        PSP  Adventure   \n",
       "1456                             10 Minute Solution        Wii     Sports   \n",
       "\n",
       "          editora  vendas lancamento  avaliacao-criticos  numero-criticos  \\\n",
       "1555     Quinrose    0.01        NaN                 NaN              NaN   \n",
       "738    Activision    1.09        NaN                 NaN              NaN   \n",
       "1197   Activision    0.62        NaN                 NaN              NaN   \n",
       "1307  Kaga Create    0.01        NaN                 NaN              NaN   \n",
       "1456   Activision    0.06  29-Jun-10                 NaN              NaN   \n",
       "\n",
       "     avaliacao-usuarios  numero-usuarios                fabricante  \n",
       "1555                NaN              NaN                       NaN  \n",
       "738                 NaN              NaN                       NaN  \n",
       "1197                NaN              NaN                       NaN  \n",
       "1307                NaN              NaN                       NaN  \n",
       "1456                tbd              NaN  Anchor Bay Entertainment  "
      ]
     },
     "execution_count": 25,
     "metadata": {},
     "output_type": "execute_result"
    }
   ],
   "source": [
    "#ordena o resultado pelo nome do jogo\n",
    "dados = dados.sort_values('nome')\n",
    "dados.head()"
   ]
  },
  {
   "cell_type": "markdown",
   "metadata": {
    "id": "mWvMWgCdaTIA"
   },
   "source": [
    "Analisando os tipos de cada varíavel."
   ]
  },
  {
   "cell_type": "code",
   "execution_count": 26,
   "metadata": {
    "colab": {
     "base_uri": "https://localhost:8080/"
    },
    "id": "hERRi3ZVaSbs",
    "outputId": "b00a90e9-e97d-4d0f-d185-5b14ecf04b70"
   },
   "outputs": [
    {
     "name": "stdout",
     "output_type": "stream",
     "text": [
      "<class 'pandas.core.frame.DataFrame'>\n",
      "Int64Index: 1632 entries, 1555 to 669\n",
      "Data columns (total 11 columns):\n",
      " #   Column              Non-Null Count  Dtype  \n",
      "---  ------              --------------  -----  \n",
      " 0   nome                1632 non-null   object \n",
      " 1   plataforma          1632 non-null   object \n",
      " 2   genero              1632 non-null   object \n",
      " 3   editora             1630 non-null   object \n",
      " 4   vendas              1632 non-null   float64\n",
      " 5   lancamento          1137 non-null   object \n",
      " 6   avaliacao-criticos  916 non-null    float64\n",
      " 7   numero-criticos     916 non-null    float64\n",
      " 8   avaliacao-usuarios  1112 non-null   object \n",
      " 9   numero-usuarios     851 non-null    float64\n",
      " 10  fabricante          1128 non-null   object \n",
      "dtypes: float64(4), object(7)\n",
      "memory usage: 153.0+ KB\n"
     ]
    }
   ],
   "source": [
    "dados.info()"
   ]
  },
  {
   "cell_type": "markdown",
   "metadata": {
    "id": "mggtOBNZcJMD"
   },
   "source": [
    "Antes de começarmos a análise, iremos transformar o parâmetro gênero em uma variável categórica. Outra questão, observada pelo .info(), é o tipo da variável  avaliacao-usuarios, vamos passar para float."
   ]
  },
  {
   "cell_type": "code",
   "execution_count": 27,
   "metadata": {
    "colab": {
     "base_uri": "https://localhost:8080/"
    },
    "id": "c8yQQ0roeLw8",
    "outputId": "fd13e22b-8a86-46de-9c93-2256aa1e0d7d"
   },
   "outputs": [
    {
     "name": "stdout",
     "output_type": "stream",
     "text": [
      "<class 'pandas.core.frame.DataFrame'>\n",
      "Int64Index: 1632 entries, 1555 to 669\n",
      "Data columns (total 11 columns):\n",
      " #   Column              Non-Null Count  Dtype   \n",
      "---  ------              --------------  -----   \n",
      " 0   nome                1632 non-null   object  \n",
      " 1   plataforma          1632 non-null   category\n",
      " 2   genero              1632 non-null   category\n",
      " 3   editora             1630 non-null   object  \n",
      " 4   vendas              1632 non-null   float64 \n",
      " 5   lancamento          1137 non-null   object  \n",
      " 6   avaliacao-criticos  916 non-null    float64 \n",
      " 7   numero-criticos     916 non-null    float64 \n",
      " 8   avaliacao-usuarios  851 non-null    float64 \n",
      " 9   numero-usuarios     851 non-null    float64 \n",
      " 10  fabricante          1128 non-null   object  \n",
      "dtypes: category(2), float64(5), object(4)\n",
      "memory usage: 131.5+ KB\n"
     ]
    }
   ],
   "source": [
    "dados['genero'] = dados.genero.astype('category')\n",
    "dados['plataforma'] = dados.plataforma.astype('category')\n",
    "dados['avaliacao-usuarios'] = pd.to_numeric(dados['avaliacao-usuarios'],errors='coerce')\n",
    "dados.info()"
   ]
  },
  {
   "cell_type": "markdown",
   "metadata": {
    "id": "yHWiotTPhJbV"
   },
   "source": [
    "Como podemos observar na tabela acima, temos valores nulos no dataframe. Portanto, iremos retirar aquelas linhas que possuem valores nulos, para não atrapalhar a nossa análise."
   ]
  },
  {
   "cell_type": "code",
   "execution_count": 28,
   "metadata": {
    "id": "_UIkUSmWhIQL"
   },
   "outputs": [],
   "source": [
    "dados.dropna(axis=0,inplace=True)"
   ]
  },
  {
   "cell_type": "code",
   "execution_count": 29,
   "metadata": {},
   "outputs": [
    {
     "data": {
      "text/plain": [
       "nome                  False\n",
       "plataforma            False\n",
       "genero                False\n",
       "editora               False\n",
       "vendas                False\n",
       "lancamento            False\n",
       "avaliacao-criticos    False\n",
       "numero-criticos       False\n",
       "avaliacao-usuarios    False\n",
       "numero-usuarios       False\n",
       "fabricante            False\n",
       "dtype: bool"
      ]
     },
     "execution_count": 29,
     "metadata": {},
     "output_type": "execute_result"
    }
   ],
   "source": [
    "dados.isnull().any()"
   ]
  },
  {
   "cell_type": "markdown",
   "metadata": {
    "id": "whkJCo1Hncz4"
   },
   "source": [
    "Analisando a frequência, desvio padrão, média e outros cálculos estatísticos, iremos aplicar o describe() no dataframe."
   ]
  },
  {
   "cell_type": "code",
   "execution_count": 30,
   "metadata": {
    "colab": {
     "base_uri": "https://localhost:8080/",
     "height": 297
    },
    "id": "GQx_o53wkXly",
    "outputId": "6f6e8601-087b-416b-c6a8-0db3712bceac"
   },
   "outputs": [
    {
     "data": {
      "text/html": [
       "<div>\n",
       "<style scoped>\n",
       "    .dataframe tbody tr th:only-of-type {\n",
       "        vertical-align: middle;\n",
       "    }\n",
       "\n",
       "    .dataframe tbody tr th {\n",
       "        vertical-align: top;\n",
       "    }\n",
       "\n",
       "    .dataframe thead th {\n",
       "        text-align: right;\n",
       "    }\n",
       "</style>\n",
       "<table border=\"1\" class=\"dataframe\">\n",
       "  <thead>\n",
       "    <tr style=\"text-align: right;\">\n",
       "      <th></th>\n",
       "      <th>vendas</th>\n",
       "      <th>avaliacao-criticos</th>\n",
       "      <th>numero-criticos</th>\n",
       "      <th>avaliacao-usuarios</th>\n",
       "      <th>numero-usuarios</th>\n",
       "    </tr>\n",
       "  </thead>\n",
       "  <tbody>\n",
       "    <tr>\n",
       "      <th>count</th>\n",
       "      <td>805.000000</td>\n",
       "      <td>805.000000</td>\n",
       "      <td>805.000000</td>\n",
       "      <td>805.000000</td>\n",
       "      <td>805.000000</td>\n",
       "    </tr>\n",
       "    <tr>\n",
       "      <th>mean</th>\n",
       "      <td>0.884025</td>\n",
       "      <td>69.073292</td>\n",
       "      <td>34.724224</td>\n",
       "      <td>6.914783</td>\n",
       "      <td>119.853416</td>\n",
       "    </tr>\n",
       "    <tr>\n",
       "      <th>std</th>\n",
       "      <td>1.916295</td>\n",
       "      <td>14.531433</td>\n",
       "      <td>21.408221</td>\n",
       "      <td>1.495613</td>\n",
       "      <td>313.970149</td>\n",
       "    </tr>\n",
       "    <tr>\n",
       "      <th>min</th>\n",
       "      <td>0.010000</td>\n",
       "      <td>13.000000</td>\n",
       "      <td>4.000000</td>\n",
       "      <td>0.900000</td>\n",
       "      <td>4.000000</td>\n",
       "    </tr>\n",
       "    <tr>\n",
       "      <th>25%</th>\n",
       "      <td>0.160000</td>\n",
       "      <td>61.000000</td>\n",
       "      <td>17.000000</td>\n",
       "      <td>6.200000</td>\n",
       "      <td>13.000000</td>\n",
       "    </tr>\n",
       "    <tr>\n",
       "      <th>50%</th>\n",
       "      <td>0.380000</td>\n",
       "      <td>72.000000</td>\n",
       "      <td>32.000000</td>\n",
       "      <td>7.200000</td>\n",
       "      <td>29.000000</td>\n",
       "    </tr>\n",
       "    <tr>\n",
       "      <th>75%</th>\n",
       "      <td>0.850000</td>\n",
       "      <td>80.000000</td>\n",
       "      <td>49.000000</td>\n",
       "      <td>8.000000</td>\n",
       "      <td>85.000000</td>\n",
       "    </tr>\n",
       "    <tr>\n",
       "      <th>max</th>\n",
       "      <td>27.250000</td>\n",
       "      <td>98.000000</td>\n",
       "      <td>101.000000</td>\n",
       "      <td>9.500000</td>\n",
       "      <td>2923.000000</td>\n",
       "    </tr>\n",
       "  </tbody>\n",
       "</table>\n",
       "</div>"
      ],
      "text/plain": [
       "           vendas  avaliacao-criticos  numero-criticos  avaliacao-usuarios  \\\n",
       "count  805.000000          805.000000       805.000000          805.000000   \n",
       "mean     0.884025           69.073292        34.724224            6.914783   \n",
       "std      1.916295           14.531433        21.408221            1.495613   \n",
       "min      0.010000           13.000000         4.000000            0.900000   \n",
       "25%      0.160000           61.000000        17.000000            6.200000   \n",
       "50%      0.380000           72.000000        32.000000            7.200000   \n",
       "75%      0.850000           80.000000        49.000000            8.000000   \n",
       "max     27.250000           98.000000       101.000000            9.500000   \n",
       "\n",
       "       numero-usuarios  \n",
       "count       805.000000  \n",
       "mean        119.853416  \n",
       "std         313.970149  \n",
       "min           4.000000  \n",
       "25%          13.000000  \n",
       "50%          29.000000  \n",
       "75%          85.000000  \n",
       "max        2923.000000  "
      ]
     },
     "execution_count": 30,
     "metadata": {},
     "output_type": "execute_result"
    }
   ],
   "source": [
    "dados.describe()"
   ]
  },
  {
   "cell_type": "markdown",
   "metadata": {},
   "source": [
    "Uma vez que retiramos os valores nulos, todas as variáveis possuem a mesma quantidade de valores."
   ]
  },
  {
   "cell_type": "code",
   "execution_count": 31,
   "metadata": {
    "colab": {
     "base_uri": "https://localhost:8080/"
    },
    "id": "wGg6oZXzhyoR",
    "outputId": "31023d2c-ef9f-45c4-e00d-69911d06ff93"
   },
   "outputs": [
    {
     "name": "stdout",
     "output_type": "stream",
     "text": [
      "**Describe das variáveis que não são numéricas\n",
      "count                              805\n",
      "unique                             695\n",
      "top       LEGO Harry Potter: Years 5-7\n",
      "freq                                 5\n",
      "Name: nome, dtype: object\n",
      "\n",
      "\n",
      "count      805\n",
      "unique       9\n",
      "top       X360\n",
      "freq       256\n",
      "Name: plataforma, dtype: object\n",
      "\n",
      "\n",
      "count        805\n",
      "unique        12\n",
      "top       Action\n",
      "freq         206\n",
      "Name: genero, dtype: object\n",
      "\n",
      "\n",
      "count                 805\n",
      "unique                 78\n",
      "top       Electronic Arts\n",
      "freq                  125\n",
      "Name: editora, dtype: object\n",
      "\n",
      "\n",
      "count           805\n",
      "unique          421\n",
      "top       20-Oct-09\n",
      "freq              9\n",
      "Name: lancamento, dtype: object\n",
      "\n",
      "\n",
      "count           805\n",
      "unique          361\n",
      "top       EA Canada\n",
      "freq             25\n",
      "Name: fabricante, dtype: object\n",
      "\n",
      "\n"
     ]
    }
   ],
   "source": [
    "#describe\n",
    "print('**Describe das variáveis que não são numéricas')\n",
    "for i in dados.keys():\n",
    "    if type(dados[i][0])!=np.float64:\n",
    "        print(dados[i].describe())\n",
    "        print(\"\\n\")"
   ]
  },
  {
   "cell_type": "markdown",
   "metadata": {
    "id": "TQRxKZGPDB8X"
   },
   "source": [
    "## Análise Inicial"
   ]
  },
  {
   "cell_type": "code",
   "execution_count": 33,
   "metadata": {},
   "outputs": [
    {
     "data": {
      "image/png": "[encoded data removed]",
      "text/plain": [
       "<Figure size 936x576 with 1 Axes>"
      ]
     },
     "metadata": {},
     "output_type": "display_data"
    }
   ],
   "source": [
    "with plt.style.context('dark_background'):\n",
    "    teste = dados.groupby(['genero','plataforma']).vendas.sum()\n",
    "    teste.unstack().plot(kind='bar',stacked=True, \n",
    "                               grid=False,  figsize=(13,8))\n",
    "    plt.title('Vendas por gênero, considerando os consoles')\n",
    "    plt.grid(False)\n",
    "    plt.ylabel('Vendas')\n",
    "    plt.show()"
   ]
  },
  {
   "cell_type": "markdown",
   "metadata": {},
   "source": [
    "De acordo com o gráfico acima, conseguimos observar que os jogos da plaforma X360 abrangem quase todos os gêneros, além de ocuparem o status de maiores vendas na maior parte deles. Outro ponto importante de destacar são as vendas do gênero \"Action\", que possuem os maiores valores de venda e atendem grande parte das plataformas."
   ]
  },
  {
   "cell_type": "code",
   "execution_count": 48,
   "metadata": {},
   "outputs": [
    {
     "data": {
      "image/png": "[encoded data removed]",
      "text/plain": [
       "<Figure size 1008x432 with 1 Axes>"
      ]
     },
     "metadata": {},
     "output_type": "display_data"
    }
   ],
   "source": [
    "plataformas = dados.plataforma.unique()\n",
    "plt.figure(figsize=(14,6))\n",
    "for p in plataformas:\n",
    "    plt.bar(p, dados[dados.plataforma==p].count()[0])    \n",
    "plt.title('Número de jogos por plataforma')\n",
    "plt.xlabel('Plataforma')\n",
    "plt.ylabel('Número de jogos')\n",
    "plt.show()\n",
    "#print(arr)"
   ]
  },
  {
   "cell_type": "markdown",
   "metadata": {},
   "source": [
    "Como podemos observar, este gráfico reforça o resultado mostrado no ínicio da apresentação, que a plataforma X360 é a mais presente no dataset."
   ]
  },
  {
   "cell_type": "code",
   "execution_count": 27,
   "metadata": {},
   "outputs": [
    {
     "data": {
      "image/png": "[encoded data removed]",
      "text/plain": [
       "<Figure size 1008x432 with 1 Axes>"
      ]
     },
     "metadata": {},
     "output_type": "display_data"
    }
   ],
   "source": [
    "generos = dados.genero.unique()\n",
    "plt.figure(figsize=(14,6))\n",
    "for p in generos:\n",
    "    plt.bar(p, dados[dados.genero==p].count()[0])   \n",
    "plt.title('Número de jogos por genero')\n",
    "plt.xlabel('Gênero')\n",
    "plt.ylabel('Número de jogos')\n",
    "plt.show()\n",
    "#print(arr)"
   ]
  },
  {
   "cell_type": "markdown",
   "metadata": {},
   "source": [
    "## Análise de Correlação"
   ]
  },
  {
   "cell_type": "markdown",
   "metadata": {},
   "source": [
    "Nesta etapa do trabalho, realizamos uma análise do grau de correlação entre todas as variáveis numéricas. "
   ]
  },
  {
   "cell_type": "code",
   "execution_count": 25,
   "metadata": {
    "scrolled": true
   },
   "outputs": [
    {
     "data": {
      "text/html": [
       "<div>\n",
       "<style scoped>\n",
       "    .dataframe tbody tr th:only-of-type {\n",
       "        vertical-align: middle;\n",
       "    }\n",
       "\n",
       "    .dataframe tbody tr th {\n",
       "        vertical-align: top;\n",
       "    }\n",
       "\n",
       "    .dataframe thead th {\n",
       "        text-align: right;\n",
       "    }\n",
       "</style>\n",
       "<table border=\"1\" class=\"dataframe\">\n",
       "  <thead>\n",
       "    <tr style=\"text-align: right;\">\n",
       "      <th></th>\n",
       "      <th>vendas</th>\n",
       "      <th>avaliacao-criticos</th>\n",
       "      <th>numero-criticos</th>\n",
       "      <th>avaliacao-usuarios</th>\n",
       "      <th>numero-usuarios</th>\n",
       "    </tr>\n",
       "  </thead>\n",
       "  <tbody>\n",
       "    <tr>\n",
       "      <th>vendas</th>\n",
       "      <td>1.000000</td>\n",
       "      <td>0.322639</td>\n",
       "      <td>0.330162</td>\n",
       "      <td>0.131051</td>\n",
       "      <td>0.556160</td>\n",
       "    </tr>\n",
       "    <tr>\n",
       "      <th>avaliacao-criticos</th>\n",
       "      <td>0.322639</td>\n",
       "      <td>1.000000</td>\n",
       "      <td>0.463458</td>\n",
       "      <td>0.608111</td>\n",
       "      <td>0.336030</td>\n",
       "    </tr>\n",
       "    <tr>\n",
       "      <th>numero-criticos</th>\n",
       "      <td>0.330162</td>\n",
       "      <td>0.463458</td>\n",
       "      <td>1.000000</td>\n",
       "      <td>0.316025</td>\n",
       "      <td>0.467206</td>\n",
       "    </tr>\n",
       "    <tr>\n",
       "      <th>avaliacao-usuarios</th>\n",
       "      <td>0.131051</td>\n",
       "      <td>0.608111</td>\n",
       "      <td>0.316025</td>\n",
       "      <td>1.000000</td>\n",
       "      <td>0.102852</td>\n",
       "    </tr>\n",
       "    <tr>\n",
       "      <th>numero-usuarios</th>\n",
       "      <td>0.556160</td>\n",
       "      <td>0.336030</td>\n",
       "      <td>0.467206</td>\n",
       "      <td>0.102852</td>\n",
       "      <td>1.000000</td>\n",
       "    </tr>\n",
       "  </tbody>\n",
       "</table>\n",
       "</div>"
      ],
      "text/plain": [
       "                      vendas  avaliacao-criticos  numero-criticos  \\\n",
       "vendas              1.000000            0.322639         0.330162   \n",
       "avaliacao-criticos  0.322639            1.000000         0.463458   \n",
       "numero-criticos     0.330162            0.463458         1.000000   \n",
       "avaliacao-usuarios  0.131051            0.608111         0.316025   \n",
       "numero-usuarios     0.556160            0.336030         0.467206   \n",
       "\n",
       "                    avaliacao-usuarios  numero-usuarios  \n",
       "vendas                        0.131051         0.556160  \n",
       "avaliacao-criticos            0.608111         0.336030  \n",
       "numero-criticos               0.316025         0.467206  \n",
       "avaliacao-usuarios            1.000000         0.102852  \n",
       "numero-usuarios               0.102852         1.000000  "
      ]
     },
     "execution_count": 25,
     "metadata": {},
     "output_type": "execute_result"
    }
   ],
   "source": [
    "dados.corr()"
   ]
  },
  {
   "cell_type": "code",
   "execution_count": 49,
   "metadata": {
    "id": "-ixCD428203a",
    "scrolled": false
   },
   "outputs": [
    {
     "name": "stderr",
     "output_type": "stream",
     "text": [
      "C:\\Users\\Thiago\\anaconda3\\lib\\site-packages\\seaborn\\axisgrid.py:2264: UserWarning: The `size` parameter has been renamed to `height`; please update your code.\n",
      "  warnings.warn(msg, UserWarning)\n"
     ]
    },
    {
     "data": {
      "text/plain": [
       "<seaborn.axisgrid.JointGrid at 0x250521e4fd0>"
      ]
     },
     "execution_count": 49,
     "metadata": {},
     "output_type": "execute_result"
    },
    {
     "data": {
      "image/png": "[encoded data removed]",
      "text/plain": [
       "<Figure size 792x792 with 3 Axes>"
      ]
     },
     "metadata": {},
     "output_type": "display_data"
    }
   ],
   "source": [
    "sns.jointplot(x='avaliacao-criticos',y='avaliacao-usuarios',data=dados,\n",
    "              kind='hex', cmap= 'afmhot', size=11)"
   ]
  },
  {
   "cell_type": "markdown",
   "metadata": {},
   "source": [
    "Diante do resultado mostrado acima e na tabela, é possível observar que as avaliações dos críticos e dos usuários possuem uma interdependência um pouco mais relavante, quando comparado aos demais valores da tabela, mostrando uma correlação positiva."
   ]
  },
  {
   "cell_type": "markdown",
   "metadata": {},
   "source": [
    "O nosso próximo gráfico mostra que, apesar da correlação entre as avaliações(considerando tanto de críticos como usuários) e as vendas ser fraca, a relação entre elas é notória. É importante salientar que correlação não implica, necessariamente, causalidade."
   ]
  },
  {
   "cell_type": "code",
   "execution_count": 47,
   "metadata": {},
   "outputs": [
    {
     "data": {
      "image/png": "[encoded data removed]",
      "text/plain": [
       "<Figure size 1008x432 with 1 Axes>"
      ]
     },
     "metadata": {},
     "output_type": "display_data"
    }
   ],
   "source": [
    "plt.figure(figsize=(14,6))\n",
    "\n",
    "avaliacoes = dados['avaliacao-usuarios'].unique()\n",
    "for p in avaliacoes:\n",
    "    v = dados[dados['avaliacao-usuarios']==p].vendas.sum()\n",
    "    plt.scatter(p*10, v, color='green')\n",
    "\n",
    "avaliacoes = dados['avaliacao-criticos'].unique()\n",
    "for p in avaliacoes:\n",
    "    plt.scatter(p, dados[dados['avaliacao-criticos']==p].vendas.sum(), color='blue')\n",
    "\n",
    "plt.title('Número de jogos por avaliação')\n",
    "plt.xlabel('Avaliação')\n",
    "plt.ylabel('Vendas')\n",
    "#plt.legend(['Usuarios','Criticos'])\n",
    "#plt.xticks(list(range(101,10)))\n",
    "\n",
    "\n",
    "line_usuarios = mlines.Line2D([], [], color='green', marker='o', \n",
    "                          markersize=10, label='Avaliação dos Usuários')\n",
    "\n",
    "line_criticos = mlines.Line2D([], [], color='blue', marker='o', \n",
    "                          markersize=10, label='Avaliação dos Criticos')\n",
    "\n",
    "plt.legend(handles=[line_usuarios,line_criticos])\n",
    "\n",
    "plt.grid(False)\n",
    "plt.show()"
   ]
  },
  {
   "cell_type": "markdown",
   "metadata": {},
   "source": [
    "Observações"
   ]
  },
  {
   "cell_type": "markdown",
   "metadata": {},
   "source": []
  },
  {
   "cell_type": "code",
   "execution_count": null,
   "metadata": {},
   "outputs": [],
   "source": []
  }
 ],
 "metadata": {
  "colab": {
   "collapsed_sections": [],
   "name": "Trabalho 2 Mineração",
   "provenance": []
  },
  "kernelspec": {
   "display_name": "Python 3",
   "language": "python",
   "name": "python3"
  },
  "language_info": {
   "codemirror_mode": {
    "name": "ipython",
    "version": 3
   },
   "file_extension": ".py",
   "mimetype": "text/x-python",
   "name": "python",
   "nbconvert_exporter": "python",
   "pygments_lexer": "ipython3",
   "version": "3.7.3"
  }
 },
 "nbformat": 4,
 "nbformat_minor": 1
}
